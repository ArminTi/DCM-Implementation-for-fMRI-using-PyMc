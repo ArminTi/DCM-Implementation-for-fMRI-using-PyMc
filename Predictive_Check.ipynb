{
 "cells": [
  {
   "cell_type": "code",
   "execution_count": 1,
   "id": "d0674d9d-cb93-4097-b4fc-714ad7fb9272",
   "metadata": {},
   "outputs": [
    {
     "name": "stderr",
     "output_type": "stream",
     "text": [
      "WARNING (pytensor.tensor.blas): Using NumPy C-API based implementation for BLAS functions.\n"
     ]
    }
   ],
   "source": [
    "import numpy as np\n",
    "import pymc as pm\n",
    "import pytensor.tensor as pt\n",
    "import pytensor\n",
    "import matplotlib.pyplot as plt"
   ]
  },
  {
   "cell_type": "code",
   "execution_count": 93,
   "id": "d992b3dc-ac7a-49e9-afa1-e19e324e73f2",
   "metadata": {},
   "outputs": [],
   "source": [
    "A = np.array([[-1, 0.6], [0, -1]])\n",
    "C = np.array([0, 0.4])\n",
    "A1, A2, A3, A4 = A[0, 0], A[0, 1], A[1, 0], A[1, 1]\n",
    "C1, C2 = C[0], C[1]\n",
    "kappa = 1.92   # Neural decay.\n",
    "gamma = 0.41   # Autoregulation of blood flow.\n",
    "alpha = 0.32   # Stiffness parameter (outflow = volume^(1/alpha))\n",
    "E0 = 0.34      # Resting oxygen extraction fraction\n",
    "tau = 2.66     # Transit time (seconds)\n",
    "k1 = 7. * E0\n",
    "k2 = 2.\n",
    "k3 = 2. * E0 - 0.2\n",
    "V0 = 0.02      # Resting blood volume fraction\n",
    "\n",
    "theta_true = np.array([A1, A2, A3, A4, C1, C2, kappa, gamma, alpha, E0, tau, k1, k2, k3, V0])\n",
    "my_var_names = ['A1', 'A2', 'A3', 'A4', 'C1', 'C2', 'kappa', 'gamma', 'alpha', 'E0', 'tau', 'k1', 'k2', 'k3', 'V0']\n",
    "\n",
    "t0 = 0.0\n",
    "tend = 200.0\n",
    "dt = 0.1\n",
    "ts = np.arange(t0, tend + dt, dt)\n",
    "n_steps = len(ts)\n",
    "\n",
    "num_node = 2\n",
    "x0 = np.zeros(num_node)   # neural state\n",
    "s0 = np.zeros(num_node)   # vasodilatory signal\n",
    "f0 = np.ones(num_node)    # blood flow\n",
    "v0 = np.ones(num_node)    # blood volume\n",
    "q0 = np.ones(num_node)    # deoxyhemoglobin content\n",
    "\n",
    "#t0 = np.ones(num_node)\n",
    "\n",
    "\n",
    "init_state = np.concatenate([x0, s0, f0, v0, q0])  # shape: (5*num_node,)"
   ]
  },
  {
   "cell_type": "code",
   "execution_count": 95,
   "id": "58408f95-08d9-4bdd-8b0c-7ea262f8209d",
   "metadata": {},
   "outputs": [
    {
     "data": {
      "text/plain": [
       "array([[-1. ,  0.6],\n",
       "       [ 0. , -1. ]])"
      ]
     },
     "execution_count": 95,
     "metadata": {},
     "output_type": "execute_result"
    }
   ],
   "source": [
    "A"
   ]
  },
  {
   "cell_type": "code",
   "execution_count": 97,
   "id": "9479f4d1-8f07-4393-a6e4-82f499c769ea",
   "metadata": {},
   "outputs": [],
   "source": [
    "def stim_boxcar_pytensor(t, onsets, durations, amplitudes):\n",
    "    \"\"\"Boxcar stimulus function compatible with PyTensor\"\"\"\n",
    "    u_t = 0\n",
    "    for i in range(len(onsets)):\n",
    "        u_t += pt.switch(pt.and_(t >= onsets[i], t <= (onsets[i] + durations[i])), amplitudes[i], 0)\n",
    "    return u_t\n",
    "\n",
    "#u     = stim_boxcar_pytensor(np.arange(200), [0],[10],[1])"
   ]
  },
  {
   "cell_type": "code",
   "execution_count": 99,
   "id": "be1eb4b4-8680-4e50-ad16-3c79f03ea10e",
   "metadata": {},
   "outputs": [],
   "source": [
    "def model_scan_simulation(theta,  onsets, durations, amplitudes, num_node, dt=0.1):\n",
    "    with pm.Model() as model:\n",
    "        A1, A2, A3, A4, C1, C2, kappa, gamma, alpha, E0, tau, k1, k2, k3, V0 = theta\n",
    "\n",
    "        def ode_update_function(t, state, A1, A2, A3, A4, C1, C2, kappa, gamma, alpha, E0, tau, k1, k2, k3, V0):\n",
    "            \n",
    "            x = state[0:num_node]\n",
    "            s = state[num_node:2*num_node]\n",
    "            f = state[2*num_node:3*num_node]\n",
    "            v = state[3*num_node:4*num_node]\n",
    "            q = state[4*num_node:5*num_node]\n",
    "            \n",
    "            stimulus = stim_boxcar_pytensor(t, onsets, durations, amplitudes)\n",
    "            A_mat = pt.stack([[A1, A2], [A3, A4]])\n",
    "            C_vec = pt.stack([C1, C2])\n",
    "            #stimulus = \n",
    "            dx_dt = pt.dot(A_mat, x) + C_vec * stimulus\n",
    "            new_x = x + dt * dx_dt\n",
    "\n",
    "            # Hemodynamic state updates (using the Runge-Kutta method)\n",
    "            s_k1 = x - kappa * s - gamma * (f - 1)\n",
    "            f_k1 = s\n",
    "            v_k1 = (1 / tau) * (f - v ** (1 / alpha))\n",
    "            q_k1 =  (1 / tau) * (((f * (1 - (1 - E0) ** (1 / f))) / E0) - q * v ** (1 / alpha - 1))\n",
    "\n",
    "            # Compute intermediate values (Euler method)\n",
    "            s_a = s + s_k1 * dt\n",
    "            f_a = f + f_k1 * dt\n",
    "            v_a = v + v_k1 * dt\n",
    "            q_a = q + q_k1 * dt\n",
    "\n",
    "            # 2nd order increments (RK2 method)\n",
    "            #s_k2 = x - kappa * s_a - gamma * (f_a - 1)\n",
    "            #f_k2 = s_a\n",
    "            #v_k2 = (1 / tau) * (f_a - v_a ** (1 / alpha))\n",
    "            #q_k2 = (1 / tau) * (((f_a * (1 - (1 - E0) ** (1 / f_a))) / E0) - q_a * v_a ** (1 / alpha - 1))\n",
    "#\n",
    "            ## Update states using RK2\n",
    "            #s_new = s + 0.5 * (s_k1 + s_k2) * dt\n",
    "            #f_new = f + 0.5 * (f_k1 + f_k2) * dt\n",
    "            #v_new = v + 0.5 * (v_k1 + v_k2) * dt\n",
    "            #q_new = q + 0.5 * (q_k1 + q_k2) * dt\n",
    "            #new_state = pt.concatenate([new_x, s_new, f_new, v_new, q_new])\n",
    "            new_state = pt.concatenate([new_x, s_a, f_a, v_a, q_a])\n",
    "            return new_state\n",
    "\n",
    "        init_state_tensor = pt.as_tensor_variable(init_state)\n",
    "        t_vals = pt.arange(n_steps, dtype=\"float64\")\n",
    "        result, updates = pytensor.scan(\n",
    "            fn=ode_update_function,\n",
    "            sequences=[t_vals],  \n",
    "            outputs_info= [init_state_tensor],\n",
    "            non_sequences=[A1, A2, A3, A4, C1, C2, kappa, gamma, alpha, E0, tau, k1, k2, k3, V0],\n",
    "            n_steps=n_steps\n",
    "        )\n",
    "\n",
    "        f_result = result[:, 2*num_node:3*num_node]\n",
    "        v_result = result[:, 3*num_node:4*num_node]\n",
    "        q_result = result[:, 4*num_node:5*num_node]\n",
    "        bold = V0 * (k1 * (1 - q_result) + k2 * (1 - q_result/v_result) + k3 * (1 - v_result))\n",
    "\n",
    "        \n",
    "\n",
    "        # Save the computed BOLD signal as a deterministic variable.\n",
    "        pm.Deterministic(\"bold\",  bold)\n",
    "        \n",
    "    return model\n"
   ]
  },
  {
   "cell_type": "code",
   "execution_count": null,
   "id": "4f0ecc8b-52f5-4502-bf8c-d2015ced6209",
   "metadata": {},
   "outputs": [],
   "source": []
  },
  {
   "cell_type": "code",
   "execution_count": 102,
   "id": "795e5ed7-5df8-474a-a6a7-59f3c772108c",
   "metadata": {},
   "outputs": [
    {
     "data": {
      "text/plain": [
       "array([-1.  ,  0.6 ,  0.  , -1.  ,  0.  ,  0.4 ,  1.92,  0.41,  0.32,\n",
       "        0.34,  2.66,  2.38,  2.  ,  0.48,  0.02])"
      ]
     },
     "execution_count": 102,
     "metadata": {},
     "output_type": "execute_result"
    }
   ],
   "source": [
    "theta_true"
   ]
  },
  {
   "cell_type": "code",
   "execution_count": 104,
   "id": "970d419e-3f60-496d-8c05-aeb05f68c966",
   "metadata": {},
   "outputs": [],
   "source": [
    "# Example of creating the model:\n",
    "model = model_scan_simulation(theta_true,[0],[20],[10], num_node, dt=0.05)"
   ]
  },
  {
   "cell_type": "code",
   "execution_count": 106,
   "id": "d6762018-81a0-4778-8be0-e985b25d7804",
   "metadata": {},
   "outputs": [
    {
     "data": {
      "text/latex": [
       "$$\n",
       "            \\begin{array}{rcl}\n",
       "            \\text{bold} &\\sim & \\operatorname{Deterministic}(f())\n",
       "            \\end{array}\n",
       "            $$"
      ],
      "text/plain": [
       "bold ~ Deterministic(f())"
      ]
     },
     "execution_count": 106,
     "metadata": {},
     "output_type": "execute_result"
    }
   ],
   "source": [
    "model"
   ]
  },
  {
   "cell_type": "code",
   "execution_count": 108,
   "id": "a4942375-15e1-4464-95ee-08f640fdcf63",
   "metadata": {},
   "outputs": [
    {
     "name": "stderr",
     "output_type": "stream",
     "text": [
      "Sampling: []\n"
     ]
    },
    {
     "data": {
      "image/png": "[encoded data removed]",
      "text/plain": [
       "<Figure size 400x300 with 1 Axes>"
      ]
     },
     "metadata": {},
     "output_type": "display_data"
    }
   ],
   "source": [
    "\n",
    "fig, ax = plt.subplots(figsize=(4, 3))\n",
    "with model:\n",
    "    # Sample prior predictive to get the BOLD signal\n",
    "    simul = pm.sample_prior_predictive(1).prior.bold[0][0].values\n",
    "    ax.plot(ts, simul)\n",
    "    #bold_signal = prior_predictive[\"BOLD\"][0]  # Extract BOLD signal from the sampled prior\n",
    "\n",
    "ax.set_title(\"Forward Simulation Model\");"
   ]
  },
  {
   "cell_type": "code",
   "execution_count": 110,
   "id": "7cfd7721-795c-4c9b-913b-d1ea24ec088b",
   "metadata": {},
   "outputs": [],
   "source": [
    "data = simul[:,1]"
   ]
  },
  {
   "cell_type": "code",
   "execution_count": 112,
   "id": "e4da961c-43c0-44b2-bc3f-123323dc2612",
   "metadata": {},
   "outputs": [
    {
     "data": {
      "text/plain": [
       "[<matplotlib.lines.Line2D at 0x28036ee6440>]"
      ]
     },
     "execution_count": 112,
     "metadata": {},
     "output_type": "execute_result"
    },
    {
     "data": {
      "image/png": "[encoded data removed]",
      "text/plain": [
       "<Figure size 640x480 with 1 Axes>"
      ]
     },
     "metadata": {},
     "output_type": "display_data"
    }
   ],
   "source": [
    "ds=10\n",
    "ts_obs=ts[::ds]\n",
    "xpy_ds=data[::ds].flatten()\n",
    "sigma_true=0.0001\n",
    "x_noise = np.random.normal(loc=0, scale=sigma_true, size=xpy_ds.shape[0])\n",
    "xpy_obs = xpy_ds + x_noise\n",
    "\n",
    "plt.plot(np.arange(201), xpy_obs)"
   ]
  },
  {
   "cell_type": "code",
   "execution_count": 114,
   "id": "0544aefa-eb82-4b1b-bce4-1b76b012215c",
   "metadata": {},
   "outputs": [
    {
     "data": {
      "text/html": [
       "<div>\n",
       "<style scoped>\n",
       "    .dataframe tbody tr th:only-of-type {\n",
       "        vertical-align: middle;\n",
       "    }\n",
       "\n",
       "    .dataframe tbody tr th {\n",
       "        vertical-align: top;\n",
       "    }\n",
       "\n",
       "    .dataframe thead th {\n",
       "        text-align: right;\n",
       "    }\n",
       "</style>\n",
       "<table border=\"1\" class=\"dataframe\">\n",
       "  <thead>\n",
       "    <tr style=\"text-align: right;\">\n",
       "      <th></th>\n",
       "      <th>ts_obs</th>\n",
       "      <th>xpy_obs</th>\n",
       "      <th>ds</th>\n",
       "    </tr>\n",
       "  </thead>\n",
       "  <tbody>\n",
       "    <tr>\n",
       "      <th>0</th>\n",
       "      <td>0.0</td>\n",
       "      <td>0.000071</td>\n",
       "      <td>10</td>\n",
       "    </tr>\n",
       "    <tr>\n",
       "      <th>1</th>\n",
       "      <td>1.0</td>\n",
       "      <td>0.000022</td>\n",
       "      <td>10</td>\n",
       "    </tr>\n",
       "    <tr>\n",
       "      <th>2</th>\n",
       "      <td>2.0</td>\n",
       "      <td>0.000716</td>\n",
       "      <td>10</td>\n",
       "    </tr>\n",
       "    <tr>\n",
       "      <th>3</th>\n",
       "      <td>3.0</td>\n",
       "      <td>0.003501</td>\n",
       "      <td>10</td>\n",
       "    </tr>\n",
       "    <tr>\n",
       "      <th>4</th>\n",
       "      <td>4.0</td>\n",
       "      <td>0.008130</td>\n",
       "      <td>10</td>\n",
       "    </tr>\n",
       "  </tbody>\n",
       "</table>\n",
       "</div>"
      ],
      "text/plain": [
       "   ts_obs   xpy_obs  ds\n",
       "0     0.0  0.000071  10\n",
       "1     1.0  0.000022  10\n",
       "2     2.0  0.000716  10\n",
       "3     3.0  0.003501  10\n",
       "4     4.0  0.008130  10"
      ]
     },
     "execution_count": 114,
     "metadata": {},
     "output_type": "execute_result"
    }
   ],
   "source": [
    "import pandas as pd\n",
    "# fmt: off\n",
    "data = pd.DataFrame(dict(\n",
    "    ts_obs = ts_obs,\n",
    "    xpy_obs = xpy_obs, ds=ds))\n",
    "data.head()"
   ]
  },
  {
   "cell_type": "code",
   "execution_count": null,
   "id": "5f5472bc-ebc3-4753-9694-bb0eb944465d",
   "metadata": {},
   "outputs": [],
   "source": []
  }
 ],
 "metadata": {
  "kernelspec": {
   "display_name": "Python 3 (ipykernel)",
   "language": "python",
   "name": "python3"
  },
  "language_info": {
   "codemirror_mode": {
    "name": "ipython",
    "version": 3
   },
   "file_extension": ".py",
   "mimetype": "text/x-python",
   "name": "python",
   "nbconvert_exporter": "python",
   "pygments_lexer": "ipython3",
   "version": "3.10.14"
  }
 },
 "nbformat": 4,
 "nbformat_minor": 5
}
